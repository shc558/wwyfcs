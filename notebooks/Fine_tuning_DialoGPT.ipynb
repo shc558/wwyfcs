{
  "cells": [
    {
      "cell_type": "code",
      "source": [
        "!pip install transformers -q\n",
        "!pip install torch -q\n",
        "!pip install tensorboardX -q\n",
        "!pip install fsspec gcsfs -q"
      ],
      "outputs": [],
      "execution_count": null,
      "metadata": {
        "collapsed": true,
        "jupyter": {
          "source_hidden": false,
          "outputs_hidden": false
        },
        "nteract": {
          "transient": {
            "deleting": false
          }
        }
      }
    },
    {
      "cell_type": "code",
      "source": [
        "import tensorflow as tf\n",
        "from datetime import datetime\n",
        "tf.test.gpu_device_name()"
      ],
      "outputs": [],
      "execution_count": null,
      "metadata": {
        "collapsed": true,
        "jupyter": {
          "source_hidden": false,
          "outputs_hidden": false
        },
        "nteract": {
          "transient": {
            "deleting": false
          }
        }
      }
    },
    {
      "cell_type": "code",
      "source": [
        "# Set the output directory for saving model file\n",
        "# Optionally, set a GCP bucket location\n",
        "from google.colab import auth\n",
        "auth.authenticate_user()\n",
        "\n",
        "OUTPUT_DIR = '[MODEL_ID]'#@param {type:\"string\"}\n",
        "#@markdown Whether or not to clear/delete the directory and create a new one\n",
        "DO_DELETE = False #@param {type:\"boolean\"}\n",
        "#@markdown Set USE_BUCKET and BUCKET if you want to (optionally) store model output on GCP bucket.\n",
        "USE_BUCKET = True #@param {type:\"boolean\"}\n",
        "BUCKET = '[BUCKET_NAME]' #@param {type:\"string\"}\n",
        "\n",
        "if USE_BUCKET:\n",
        "  OUTPUT_DIR = 'gs://{}/{}'.format(BUCKET, OUTPUT_DIR)\n",
        "\n",
        "if DO_DELETE:\n",
        "  try:  \n",
        "    tf.compat.v1.gfile.DeleteRecursively(OUTPUT_DIR)\n",
        "  except:\n",
        "    # Doesn't matter if the directory didn't exist\n",
        "    pass\n",
        "tf.io.gfile.makedirs(OUTPUT_DIR)\n",
        "print('***** Model output directory: {} *****'.format(OUTPUT_DIR))\n"
      ],
      "outputs": [],
      "execution_count": null,
      "metadata": {
        "collapsed": true,
        "jupyter": {
          "source_hidden": false,
          "outputs_hidden": false
        },
        "nteract": {
          "transient": {
            "deleting": false
          }
        }
      }
    },
    {
      "cell_type": "code",
      "source": [
        "!python train_language_model.py \\\n",
        "--output_dir $OUTPUT_DIR \\\n",
        "--train_data_file $PATH_TO_TRAIN_DATA \\\n",
        "--eval_data_file $PATH_TO_EVAL_DATA \\\n",
        "--logging_steps 2000 \\\n",
        "--save_steps 4000 \\\n",
        "--overwrite_cache \\\n",
        "--do_train \\\n",
        "--do_eval \\\n",
        "--overwrite_output_dir \\\n",
        "--per_device_train_batch_size 4 \\\n",
        "--per_device_eval_batch_size 4 \\\n",
        "--num_train_epochs 3"
      ],
      "outputs": [],
      "execution_count": null,
      "metadata": {
        "collapsed": true,
        "jupyter": {
          "source_hidden": false,
          "outputs_hidden": false
        },
        "nteract": {
          "transient": {
            "deleting": false
          }
        }
      }
    }
  ],
  "metadata": {},
  "nbformat": 4,
  "nbformat_minor": 0
}