{
  "cells": [
    {
      "cell_type": "code",
      "source": [
        "import os\n",
        "import pandas as pd\n",
        "import numpy as np\n",
        "from pathlib import Path\n",
        "from wwyfcs import preprocess_text\n",
        "import matplotlib.pyplot as plt\n",
        "from sklearn.feature_extraction.text import TfidfVectorizer\n",
        "%matplotlib"
      ],
      "outputs": [],
      "execution_count": null,
      "metadata": {
        "collapsed": true,
        "jupyter": {
          "source_hidden": false,
          "outputs_hidden": false
        },
        "nteract": {
          "transient": {
            "deleting": false
          }
        }
      }
    },
    {
      "cell_type": "code",
      "source": [
        "def load_data():\n",
        "  file_path='raw/Game_of_Thrones_Script.csv'\n",
        "  file_dir = os.path.join(os.getcwd(),'data') #os.path.join(os.cwd(),os.path.dirname(__file__))\n",
        "  data = pd.read_csv(Path(file_dir)/file_path)\n",
        "  print(data.info())\n",
        "  return data"
      ],
      "outputs": [],
      "execution_count": null,
      "metadata": {
        "collapsed": true,
        "jupyter": {
          "source_hidden": false,
          "outputs_hidden": false
        },
        "nteract": {
          "transient": {
            "deleting": false
          }
        }
      }
    },
    {
      "cell_type": "code",
      "source": [
        "# Load and inspect the dataset\n",
        "script = load_data()"
      ],
      "outputs": [],
      "execution_count": null,
      "metadata": {
        "collapsed": true,
        "jupyter": {
          "source_hidden": false,
          "outputs_hidden": false
        },
        "nteract": {
          "transient": {
            "deleting": false
          }
        }
      }
    },
    {
      "cell_type": "code",
      "source": [
        "# The main data field that will be used in training\n",
        "script['Sentence'][:20].tolist()\n"
      ],
      "outputs": [],
      "execution_count": null,
      "metadata": {
        "collapsed": true,
        "jupyter": {
          "source_hidden": false,
          "outputs_hidden": false
        },
        "nteract": {
          "transient": {
            "deleting": false
          }
        }
      }
    },
    {
      "cell_type": "code",
      "source": [
        "def most_talkative_k(data, k):\n",
        "  from collections import Counter\n",
        "  nameCount = Counter(data['Name']).most_common(k)\n",
        "  print(nameCount)"
      ],
      "outputs": [],
      "execution_count": null,
      "metadata": {
        "collapsed": true,
        "jupyter": {
          "source_hidden": false,
          "outputs_hidden": false
        },
        "nteract": {
          "transient": {
            "deleting": false
          }
        }
      }
    },
    {
      "cell_type": "code",
      "source": [
        "most_talkative_k(script,10)"
      ],
      "outputs": [],
      "execution_count": null,
      "metadata": {
        "collapsed": true,
        "jupyter": {
          "source_hidden": false,
          "outputs_hidden": false
        },
        "nteract": {
          "transient": {
            "deleting": false
          }
        }
      }
    },
    {
      "cell_type": "code",
      "source": [
        "# Plot the distribution of sentence lengths\n",
        "script['Lengths'] = script['Sentence'].apply(lambda x: len(x.split()))\n",
        "script['Lengths'].describe()\n"
      ],
      "outputs": [],
      "execution_count": null,
      "metadata": {
        "collapsed": true,
        "jupyter": {
          "source_hidden": false,
          "outputs_hidden": false
        },
        "nteract": {
          "transient": {
            "deleting": false
          }
        }
      }
    },
    {
      "cell_type": "code",
      "source": [
        "# preprocess text and get unique words by character\n",
        "def text_cleanining_pipeline(text):\n",
        "    tp = preprocess_text.TextProcessor()\n",
        "    text = tp.expand_contractions(text)\n",
        "    text = tp.remove_special_characters(text,remove_digits=True)\n",
        "    text = tp.remove_stopwords(text,is_lower_case=False, remove_short_tokens = True)\n",
        "    text = tp.lemmatize(text)\n",
        "    return text.lower()\n",
        "# text_cleanining_pipeline(script['Sentence'][0])\n",
        "\n",
        "def get_top_k_words(responses, min_score=0.7, k=10):\n",
        "    #turn corpus into tf-idf\n",
        "    vectorizer = TfidfVectorizer(preprocessor = text_cleanining_pipeline)\n",
        "    tfidf = vectorizer.fit_transform(responses)\n",
        "    tfidf_dense = tfidf.toarray()\n",
        "    tfidf_dense[tfidf_dense<min_score] = 0\n",
        "    #calculate average tfidf score of each word\n",
        "    means = np.mean(tfidf_dense, axis=0)\n",
        "    #sort from large to small and return top k words\n",
        "    top_idx = np.argsort(means)[::-1][:k]\n",
        "    features = np.array(vectorizer.get_feature_names())\n",
        "    return [(features[i], means[i]) for i in top_idx]"
      ],
      "outputs": [],
      "execution_count": null,
      "metadata": {
        "collapsed": true,
        "jupyter": {
          "source_hidden": false,
          "outputs_hidden": false
        },
        "nteract": {
          "transient": {
            "deleting": false
          }
        }
      }
    },
    {
      "cell_type": "code",
      "source": [
        "characters = ['tyrion lannister', 'jon snow', 'daenerys targaryen', 'arya stark', 'cersei lannister']\n",
        "for character in characters:\n",
        "    print('Top words from {}:'.format(character))\n",
        "    print(pd.DataFrame(get_top_k_words(script[script['Name']==character]['Sentence'],k=20),\n",
        "    columns = ['word','score']))\n",
        "    print('\\n')\n",
        "\n"
      ],
      "outputs": [],
      "execution_count": null,
      "metadata": {
        "collapsed": true,
        "jupyter": {
          "source_hidden": false,
          "outputs_hidden": false
        },
        "nteract": {
          "transient": {
            "deleting": false
          }
        }
      }
    }
  ],
  "metadata": {},
  "nbformat": 4,
  "nbformat_minor": 0
}